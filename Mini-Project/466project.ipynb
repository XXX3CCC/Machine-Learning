{
  "nbformat": 4,
  "nbformat_minor": 0,
  "metadata": {
    "colab": {
      "name": "466project.ipynb",
      "provenance": []
    },
    "kernelspec": {
      "name": "python3",
      "display_name": "Python 3"
    },
    "language_info": {
      "name": "python"
    }
  },
  "cells": [
    {
      "cell_type": "code",
      "execution_count": 330,
      "metadata": {
        "id": "fs8wV800dTu4"
      },
      "outputs": [],
      "source": [
        "import pandas as pd\n",
        "import numpy as np\n",
        "from matplotlib import pyplot as plt\n",
        "from sklearn.dummy import DummyClassifier\n",
        "from sklearn.metrics import accuracy_score\n",
        "from sklearn.linear_model import LogisticRegression\n",
        "from sklearn.model_selection import validation_curve\n",
        "from sklearn.svm import SVC\n",
        "from sklearn.neural_network import MLPClassifier\n",
        "from sklearn.model_selection import train_test_split\n",
        "from sklearn.model_selection import cross_val_score"
      ]
    },
    {
      "cell_type": "markdown",
      "source": [
        "# **Data**"
      ],
      "metadata": {
        "id": "15TypdcUdZyP"
      }
    },
    {
      "cell_type": "code",
      "source": [
        "# Setting\n",
        "# The size of the test split and validation split\n",
        "test = 0.1\n",
        "# Eandom seed\n",
        "random_seed = 10\n",
        "# load in data: 'wine.csv'\n",
        "#data = pd.read_csv('wine.csv')\n",
        "data = pd.read_csv('wine.csv', header=None)\n",
        "data"
      ],
      "metadata": {
        "colab": {
          "base_uri": "https://localhost:8080/",
          "height": 424
        },
        "id": "MsR3c4awzFfz",
        "outputId": "928b26ae-89d5-423a-b12c-753aba79ded0"
      },
      "execution_count": 332,
      "outputs": [
        {
          "output_type": "execute_result",
          "data": {
            "text/html": [
              "\n",
              "  <div id=\"df-56dc8533-c949-494d-bcae-f1a08c5e7776\">\n",
              "    <div class=\"colab-df-container\">\n",
              "      <div>\n",
              "<style scoped>\n",
              "    .dataframe tbody tr th:only-of-type {\n",
              "        vertical-align: middle;\n",
              "    }\n",
              "\n",
              "    .dataframe tbody tr th {\n",
              "        vertical-align: top;\n",
              "    }\n",
              "\n",
              "    .dataframe thead th {\n",
              "        text-align: right;\n",
              "    }\n",
              "</style>\n",
              "<table border=\"1\" class=\"dataframe\">\n",
              "  <thead>\n",
              "    <tr style=\"text-align: right;\">\n",
              "      <th></th>\n",
              "      <th>0</th>\n",
              "      <th>1</th>\n",
              "      <th>2</th>\n",
              "      <th>3</th>\n",
              "      <th>4</th>\n",
              "      <th>5</th>\n",
              "      <th>6</th>\n",
              "      <th>7</th>\n",
              "      <th>8</th>\n",
              "      <th>9</th>\n",
              "      <th>10</th>\n",
              "      <th>11</th>\n",
              "      <th>12</th>\n",
              "      <th>13</th>\n",
              "    </tr>\n",
              "  </thead>\n",
              "  <tbody>\n",
              "    <tr>\n",
              "      <th>0</th>\n",
              "      <td>14.23</td>\n",
              "      <td>1.71</td>\n",
              "      <td>2.43</td>\n",
              "      <td>15.6</td>\n",
              "      <td>127</td>\n",
              "      <td>2.80</td>\n",
              "      <td>3.06</td>\n",
              "      <td>0.28</td>\n",
              "      <td>2.29</td>\n",
              "      <td>5.64</td>\n",
              "      <td>1.04</td>\n",
              "      <td>3.92</td>\n",
              "      <td>1065</td>\n",
              "      <td>1</td>\n",
              "    </tr>\n",
              "    <tr>\n",
              "      <th>1</th>\n",
              "      <td>13.20</td>\n",
              "      <td>1.78</td>\n",
              "      <td>2.14</td>\n",
              "      <td>11.2</td>\n",
              "      <td>100</td>\n",
              "      <td>2.65</td>\n",
              "      <td>2.76</td>\n",
              "      <td>0.26</td>\n",
              "      <td>1.28</td>\n",
              "      <td>4.38</td>\n",
              "      <td>1.05</td>\n",
              "      <td>3.40</td>\n",
              "      <td>1050</td>\n",
              "      <td>1</td>\n",
              "    </tr>\n",
              "    <tr>\n",
              "      <th>2</th>\n",
              "      <td>13.16</td>\n",
              "      <td>2.36</td>\n",
              "      <td>2.67</td>\n",
              "      <td>18.6</td>\n",
              "      <td>101</td>\n",
              "      <td>2.80</td>\n",
              "      <td>3.24</td>\n",
              "      <td>0.30</td>\n",
              "      <td>2.81</td>\n",
              "      <td>5.68</td>\n",
              "      <td>1.03</td>\n",
              "      <td>3.17</td>\n",
              "      <td>1185</td>\n",
              "      <td>1</td>\n",
              "    </tr>\n",
              "    <tr>\n",
              "      <th>3</th>\n",
              "      <td>14.37</td>\n",
              "      <td>1.95</td>\n",
              "      <td>2.50</td>\n",
              "      <td>16.8</td>\n",
              "      <td>113</td>\n",
              "      <td>3.85</td>\n",
              "      <td>3.49</td>\n",
              "      <td>0.24</td>\n",
              "      <td>2.18</td>\n",
              "      <td>7.80</td>\n",
              "      <td>0.86</td>\n",
              "      <td>3.45</td>\n",
              "      <td>1480</td>\n",
              "      <td>1</td>\n",
              "    </tr>\n",
              "    <tr>\n",
              "      <th>4</th>\n",
              "      <td>13.24</td>\n",
              "      <td>2.59</td>\n",
              "      <td>2.87</td>\n",
              "      <td>21.0</td>\n",
              "      <td>118</td>\n",
              "      <td>2.80</td>\n",
              "      <td>2.69</td>\n",
              "      <td>0.39</td>\n",
              "      <td>1.82</td>\n",
              "      <td>4.32</td>\n",
              "      <td>1.04</td>\n",
              "      <td>2.93</td>\n",
              "      <td>735</td>\n",
              "      <td>1</td>\n",
              "    </tr>\n",
              "    <tr>\n",
              "      <th>...</th>\n",
              "      <td>...</td>\n",
              "      <td>...</td>\n",
              "      <td>...</td>\n",
              "      <td>...</td>\n",
              "      <td>...</td>\n",
              "      <td>...</td>\n",
              "      <td>...</td>\n",
              "      <td>...</td>\n",
              "      <td>...</td>\n",
              "      <td>...</td>\n",
              "      <td>...</td>\n",
              "      <td>...</td>\n",
              "      <td>...</td>\n",
              "      <td>...</td>\n",
              "    </tr>\n",
              "    <tr>\n",
              "      <th>173</th>\n",
              "      <td>13.71</td>\n",
              "      <td>5.65</td>\n",
              "      <td>2.45</td>\n",
              "      <td>20.5</td>\n",
              "      <td>95</td>\n",
              "      <td>1.68</td>\n",
              "      <td>0.61</td>\n",
              "      <td>0.52</td>\n",
              "      <td>1.06</td>\n",
              "      <td>7.70</td>\n",
              "      <td>0.64</td>\n",
              "      <td>1.74</td>\n",
              "      <td>740</td>\n",
              "      <td>3</td>\n",
              "    </tr>\n",
              "    <tr>\n",
              "      <th>174</th>\n",
              "      <td>13.40</td>\n",
              "      <td>3.91</td>\n",
              "      <td>2.48</td>\n",
              "      <td>23.0</td>\n",
              "      <td>102</td>\n",
              "      <td>1.80</td>\n",
              "      <td>0.75</td>\n",
              "      <td>0.43</td>\n",
              "      <td>1.41</td>\n",
              "      <td>7.30</td>\n",
              "      <td>0.70</td>\n",
              "      <td>1.56</td>\n",
              "      <td>750</td>\n",
              "      <td>3</td>\n",
              "    </tr>\n",
              "    <tr>\n",
              "      <th>175</th>\n",
              "      <td>13.27</td>\n",
              "      <td>4.28</td>\n",
              "      <td>2.26</td>\n",
              "      <td>20.0</td>\n",
              "      <td>120</td>\n",
              "      <td>1.59</td>\n",
              "      <td>0.69</td>\n",
              "      <td>0.43</td>\n",
              "      <td>1.35</td>\n",
              "      <td>10.20</td>\n",
              "      <td>0.59</td>\n",
              "      <td>1.56</td>\n",
              "      <td>835</td>\n",
              "      <td>3</td>\n",
              "    </tr>\n",
              "    <tr>\n",
              "      <th>176</th>\n",
              "      <td>13.17</td>\n",
              "      <td>2.59</td>\n",
              "      <td>2.37</td>\n",
              "      <td>20.0</td>\n",
              "      <td>120</td>\n",
              "      <td>1.65</td>\n",
              "      <td>0.68</td>\n",
              "      <td>0.53</td>\n",
              "      <td>1.46</td>\n",
              "      <td>9.30</td>\n",
              "      <td>0.60</td>\n",
              "      <td>1.62</td>\n",
              "      <td>840</td>\n",
              "      <td>3</td>\n",
              "    </tr>\n",
              "    <tr>\n",
              "      <th>177</th>\n",
              "      <td>14.13</td>\n",
              "      <td>4.10</td>\n",
              "      <td>2.74</td>\n",
              "      <td>24.5</td>\n",
              "      <td>96</td>\n",
              "      <td>2.05</td>\n",
              "      <td>0.76</td>\n",
              "      <td>0.56</td>\n",
              "      <td>1.35</td>\n",
              "      <td>9.20</td>\n",
              "      <td>0.61</td>\n",
              "      <td>1.60</td>\n",
              "      <td>560</td>\n",
              "      <td>3</td>\n",
              "    </tr>\n",
              "  </tbody>\n",
              "</table>\n",
              "<p>178 rows × 14 columns</p>\n",
              "</div>\n",
              "      <button class=\"colab-df-convert\" onclick=\"convertToInteractive('df-56dc8533-c949-494d-bcae-f1a08c5e7776')\"\n",
              "              title=\"Convert this dataframe to an interactive table.\"\n",
              "              style=\"display:none;\">\n",
              "        \n",
              "  <svg xmlns=\"http://www.w3.org/2000/svg\" height=\"24px\"viewBox=\"0 0 24 24\"\n",
              "       width=\"24px\">\n",
              "    <path d=\"M0 0h24v24H0V0z\" fill=\"none\"/>\n",
              "    <path d=\"M18.56 5.44l.94 2.06.94-2.06 2.06-.94-2.06-.94-.94-2.06-.94 2.06-2.06.94zm-11 1L8.5 8.5l.94-2.06 2.06-.94-2.06-.94L8.5 2.5l-.94 2.06-2.06.94zm10 10l.94 2.06.94-2.06 2.06-.94-2.06-.94-.94-2.06-.94 2.06-2.06.94z\"/><path d=\"M17.41 7.96l-1.37-1.37c-.4-.4-.92-.59-1.43-.59-.52 0-1.04.2-1.43.59L10.3 9.45l-7.72 7.72c-.78.78-.78 2.05 0 2.83L4 21.41c.39.39.9.59 1.41.59.51 0 1.02-.2 1.41-.59l7.78-7.78 2.81-2.81c.8-.78.8-2.07 0-2.86zM5.41 20L4 18.59l7.72-7.72 1.47 1.35L5.41 20z\"/>\n",
              "  </svg>\n",
              "      </button>\n",
              "      \n",
              "  <style>\n",
              "    .colab-df-container {\n",
              "      display:flex;\n",
              "      flex-wrap:wrap;\n",
              "      gap: 12px;\n",
              "    }\n",
              "\n",
              "    .colab-df-convert {\n",
              "      background-color: #E8F0FE;\n",
              "      border: none;\n",
              "      border-radius: 50%;\n",
              "      cursor: pointer;\n",
              "      display: none;\n",
              "      fill: #1967D2;\n",
              "      height: 32px;\n",
              "      padding: 0 0 0 0;\n",
              "      width: 32px;\n",
              "    }\n",
              "\n",
              "    .colab-df-convert:hover {\n",
              "      background-color: #E2EBFA;\n",
              "      box-shadow: 0px 1px 2px rgba(60, 64, 67, 0.3), 0px 1px 3px 1px rgba(60, 64, 67, 0.15);\n",
              "      fill: #174EA6;\n",
              "    }\n",
              "\n",
              "    [theme=dark] .colab-df-convert {\n",
              "      background-color: #3B4455;\n",
              "      fill: #D2E3FC;\n",
              "    }\n",
              "\n",
              "    [theme=dark] .colab-df-convert:hover {\n",
              "      background-color: #434B5C;\n",
              "      box-shadow: 0px 1px 3px 1px rgba(0, 0, 0, 0.15);\n",
              "      filter: drop-shadow(0px 1px 2px rgba(0, 0, 0, 0.3));\n",
              "      fill: #FFFFFF;\n",
              "    }\n",
              "  </style>\n",
              "\n",
              "      <script>\n",
              "        const buttonEl =\n",
              "          document.querySelector('#df-56dc8533-c949-494d-bcae-f1a08c5e7776 button.colab-df-convert');\n",
              "        buttonEl.style.display =\n",
              "          google.colab.kernel.accessAllowed ? 'block' : 'none';\n",
              "\n",
              "        async function convertToInteractive(key) {\n",
              "          const element = document.querySelector('#df-56dc8533-c949-494d-bcae-f1a08c5e7776');\n",
              "          const dataTable =\n",
              "            await google.colab.kernel.invokeFunction('convertToInteractive',\n",
              "                                                     [key], {});\n",
              "          if (!dataTable) return;\n",
              "\n",
              "          const docLinkHtml = 'Like what you see? Visit the ' +\n",
              "            '<a target=\"_blank\" href=https://colab.research.google.com/notebooks/data_table.ipynb>data table notebook</a>'\n",
              "            + ' to learn more about interactive tables.';\n",
              "          element.innerHTML = '';\n",
              "          dataTable['output_type'] = 'display_data';\n",
              "          await google.colab.output.renderOutput(dataTable, element);\n",
              "          const docLink = document.createElement('div');\n",
              "          docLink.innerHTML = docLinkHtml;\n",
              "          element.appendChild(docLink);\n",
              "        }\n",
              "      </script>\n",
              "    </div>\n",
              "  </div>\n",
              "  "
            ],
            "text/plain": [
              "        0     1     2     3    4     5   ...    8      9     10    11    12  13\n",
              "0    14.23  1.71  2.43  15.6  127  2.80  ...  2.29   5.64  1.04  3.92  1065   1\n",
              "1    13.20  1.78  2.14  11.2  100  2.65  ...  1.28   4.38  1.05  3.40  1050   1\n",
              "2    13.16  2.36  2.67  18.6  101  2.80  ...  2.81   5.68  1.03  3.17  1185   1\n",
              "3    14.37  1.95  2.50  16.8  113  3.85  ...  2.18   7.80  0.86  3.45  1480   1\n",
              "4    13.24  2.59  2.87  21.0  118  2.80  ...  1.82   4.32  1.04  2.93   735   1\n",
              "..     ...   ...   ...   ...  ...   ...  ...   ...    ...   ...   ...   ...  ..\n",
              "173  13.71  5.65  2.45  20.5   95  1.68  ...  1.06   7.70  0.64  1.74   740   3\n",
              "174  13.40  3.91  2.48  23.0  102  1.80  ...  1.41   7.30  0.70  1.56   750   3\n",
              "175  13.27  4.28  2.26  20.0  120  1.59  ...  1.35  10.20  0.59  1.56   835   3\n",
              "176  13.17  2.59  2.37  20.0  120  1.65  ...  1.46   9.30  0.60  1.62   840   3\n",
              "177  14.13  4.10  2.74  24.5   96  2.05  ...  1.35   9.20  0.61  1.60   560   3\n",
              "\n",
              "[178 rows x 14 columns]"
            ]
          },
          "metadata": {},
          "execution_count": 332
        }
      ]
    },
    {
      "cell_type": "code",
      "source": [
        "# Show the Number of Instances\n",
        "classes, counts = np.unique(data.iloc[:, -1].values, return_counts=True)\n",
        "classes = list(zip(classes, counts))\n",
        "print('Types of wine and their respective quantities are : ', classes)"
      ],
      "metadata": {
        "colab": {
          "base_uri": "https://localhost:8080/"
        },
        "id": "s7VFZobXl2xq",
        "outputId": "0bcdb4d7-1d0e-48b9-938e-b6a9e3b8f589"
      },
      "execution_count": 334,
      "outputs": [
        {
          "output_type": "stream",
          "name": "stdout",
          "text": [
            "Types of wine and their respective quantities are :  [(1, 59), (2, 71), (3, 48)]\n"
          ]
        }
      ]
    },
    {
      "cell_type": "code",
      "source": [
        "# Split data into X and y\n",
        "# X: Attributes\n",
        "# y: Instances\n",
        "X = data.iloc[:, 1: -1]\n",
        "y = data.iloc[:, -1]\n",
        "# Split the data into train and test datasets\n",
        "X_train, X_test, y_train, y_test = train_test_split(X, y, test_size=test, random_state=random_seed)"
      ],
      "metadata": {
        "id": "nijwcDP75pN5"
      },
      "execution_count": 335,
      "outputs": []
    },
    {
      "cell_type": "markdown",
      "source": [
        "# **Baseline Model**\n",
        "We use DummyClassifier to get a trivial baseline.\\\n",
        "DummyClassifier is a classifier that makes predictions using simple rules.\\\n",
        "This classifier is useful as a simple baseline to compare with other (real) classifiers. Do not use it for real problems.\\\n",
        "reference: https://scikit-learn.org/stable/modules/generated/sklearn.dummy.DummyClassifier.html\n",
        "\n",
        "### Strategy to use to generate predictions:\n",
        "“most_frequent”: always predicts the most frequent label in the training set."
      ],
      "metadata": {
        "id": "wNjikFjG_2xu"
      }
    },
    {
      "cell_type": "code",
      "source": [
        "# Use “most_frequent” strategy to generate predictions\n",
        "strategy1 = DummyClassifier(strategy='most_frequent')\n",
        "# Fit the random classifier\n",
        "strategy1.fit(X_train, y_train)\n",
        "# Perform classification on test vectors X_test\n",
        "y_hat = strategy1.predict(X_test)\n",
        "# Accuracy classification score\n",
        "acc = accuracy_score(y_test, y_hat)\n",
        "# Print the accuracy of Baseline Classifier\n",
        "print('The accuracy of Baseline Classifier is ', acc)"
      ],
      "metadata": {
        "colab": {
          "base_uri": "https://localhost:8080/"
        },
        "id": "M_hWswBLsdRr",
        "outputId": "05918b89-832a-4dcf-a56f-23550ec73ca8"
      },
      "execution_count": 336,
      "outputs": [
        {
          "output_type": "stream",
          "name": "stdout",
          "text": [
            "The accuracy of Baseline Classifier is  0.6111111111111112\n"
          ]
        }
      ]
    },
    {
      "cell_type": "markdown",
      "source": [
        "# **Logistic** **Regression**\n",
        "\n",
        "Logistic Regression (aka logit, MaxEnt) classifier\n",
        "\n",
        "reference: https://scikit-learn.org/stable/modules/generated/sklearn.linear_model.LogisticRegression.html?highlight=logistic%20regression#sklearn.linear_model.LogisticRegression\n",
        "\n"
      ],
      "metadata": {
        "id": "oXH7KFYH3L9a"
      }
    },
    {
      "cell_type": "code",
      "source": [
        "# Hyperparameters that will be evaluated\n",
        "C_sets = [0.001, 0.01, 0.1, 1]\n",
        "\n",
        "# Logistic Regression (aka logit, MaxEnt) classifier\n",
        "logistic = LogisticRegression(max_iter=1000)\n",
        "# Determine training and test scores for varying parameter values\n",
        "train_scores, test_scores = validation_curve(logistic, X_train, y_train, param_name='C', cv=10, n_jobs=-1,param_range=C_sets, scoring='accuracy')\n",
        "\n",
        "# Show the plot\n",
        "plt.title('$log_{10}C$ vs Cross-validation accuracy')\n",
        "plt.xlabel('$log_{10}C$')\n",
        "plt.ylabel('Cross-validation accuracy')\n",
        "plt.xticks(np.log10(C_sets))\n",
        "plt.plot(np.log10(C_sets), np.mean(test_scores, axis=1))\n",
        "plt.show()\n",
        "\n",
        "# Find the best value of hyperparameter C\n",
        "best_C = C_sets[np.argmax(np.mean(test_scores, axis=1))]\n",
        "print('The best C is ', best_C)\n",
        "\n",
        "# Logistic Regression with best value of C\n",
        "best_logistic = LogisticRegression(C=best_C)\n",
        "# Fit the random classifier\n",
        "best_logistic.fit(X_train, y_train)\n",
        "# Perform classification on test vectors X_test\n",
        "y_hat = best_logistic.predict(X_test)\n",
        "# Accuracy classification score\n",
        "acc = accuracy_score(y_test, y_hat)\n",
        "# Print the accuracy of Logistic Regression Classifier\n",
        "print('The accuracy of Logistic Regression Classifier is ', acc)\n"
      ],
      "metadata": {
        "colab": {
          "base_uri": "https://localhost:8080/",
          "height": 336
        },
        "id": "RR2fGJ6hBRay",
        "outputId": "53cdddea-c738-46c6-bdd2-e5b999d129a8"
      },
      "execution_count": 344,
      "outputs": [
        {
          "output_type": "display_data",
          "data": {
            "image/png": "[encoded data removed]",
            "text/plain": [
              "<Figure size 432x288 with 1 Axes>"
            ]
          },
          "metadata": {
            "needs_background": "light"
          }
        },
        {
          "output_type": "stream",
          "name": "stdout",
          "text": [
            "The best C is  1\n",
            "The accuracy of Logistic Regression Classifier is  0.8333333333333334\n"
          ]
        }
      ]
    },
    {
      "cell_type": "markdown",
      "source": [
        "# **SVM** (RBF kernel)\n",
        "\n",
        "reference: https://scikit-learn.org/stable/modules/generated/sklearn.svm.SVC.html?highlight=svc#sklearn.svm.SVC"
      ],
      "metadata": {
        "id": "YxYCk52QLraD"
      }
    },
    {
      "cell_type": "code",
      "source": [
        "# Initializ\n",
        "best_C = 0\n",
        "max = 0\n",
        "\n",
        "# Hyperparameters that will be evaluated\n",
        "C_sets = [0.1, 1, 10, 100, 1000, 10000, 100000]\n",
        "validation_acc = []\n",
        "\n",
        "for i in C_sets:\n",
        "    svm = SVC(C=i)\n",
        "    c = np.mean(cross_val_score(svm, X_train, y_train, cv=10, scoring='accuracy'))\n",
        "    validation_acc.append(c) \n",
        "    # Find the best value of hyperparameter C\n",
        "    if c > max:\n",
        "        max = c\n",
        "        best_C = i\n",
        "print('The best C is ', best_C)\n",
        "\n",
        "# Show the plot\n",
        "plt.title('$log_{10}C$ vs Cross-validation accuracy')\n",
        "plt.xlabel('$log_{10}C$')\n",
        "plt.ylabel('Cross-validation accuracy')\n",
        "plt.xticks(np.log10(C_sets))\n",
        "plt.plot(np.log10(C_sets), validation_acc)\n",
        "plt.show()\n",
        "\n",
        "# SVM with best value of C\n",
        "best_svm = SVC(C=best_C)\n",
        "# Fit the random classifier\n",
        "best_svm.fit(X_train, y_train)\n",
        "# Perform classification on test vectors X_test\n",
        "y_hat = best_svm.predict(X_test)\n",
        "# Accuracy classification score\n",
        "acc = accuracy_score(y_test, y_hat)\n",
        "print('The accuracy of SVM Classifier(RBF kernel) is ', acc)"
      ],
      "metadata": {
        "colab": {
          "base_uri": "https://localhost:8080/",
          "height": 336
        },
        "id": "k7OE3DLgLxdi",
        "outputId": "c941e32d-f5d3-4b21-a582-b5c43908b656"
      },
      "execution_count": 345,
      "outputs": [
        {
          "output_type": "stream",
          "name": "stdout",
          "text": [
            "The best C is  10000\n"
          ]
        },
        {
          "output_type": "display_data",
          "data": {
            "image/png": "[encoded data removed]",
            "text/plain": [
              "<Figure size 432x288 with 1 Axes>"
            ]
          },
          "metadata": {
            "needs_background": "light"
          }
        },
        {
          "output_type": "stream",
          "name": "stdout",
          "text": [
            "The accuracy of SVM Classifier(RBF kernel) is  0.8333333333333334\n"
          ]
        }
      ]
    },
    {
      "cell_type": "markdown",
      "source": [
        "# **SVM** (Linear kernel)"
      ],
      "metadata": {
        "id": "3mNJNstV1sle"
      }
    },
    {
      "cell_type": "code",
      "source": [
        "# Initializ\n",
        "best_C = 0\n",
        "max = 0\n",
        "\n",
        "# Hyperparameters that will be evaluated\n",
        "C_sets = [0.1, 1, 10, 100, 1000, 10000, 100000]\n",
        "validation_acc = []\n",
        "\n",
        "for i in C_sets:\n",
        "    svm = SVC(kernel='linear', C=i)\n",
        "    c = np.mean(cross_val_score(svm, X_train, y_train, cv=10, scoring='accuracy'))\n",
        "    validation_acc.append(c) \n",
        "    # Find the best value of hyperparameter C\n",
        "    if c > max:\n",
        "        max = c\n",
        "        best_C = i\n",
        "print('The best C is ', best_C)\n",
        "\n",
        "# Show the plot\n",
        "plt.title('$log_{10}C$ vs Cross-validation accuracy')\n",
        "plt.xlabel('$log_{10}C$')\n",
        "plt.ylabel('Cross-validation accuracy')\n",
        "plt.xticks(np.log10(C_sets))\n",
        "plt.plot(np.log10(C_sets), validation_acc)\n",
        "plt.show()\n",
        "\n",
        "# SVM with best value of C\n",
        "best_svm = SVC(kernel='linear', C=best_C)\n",
        "# Fit the random classifier\n",
        "best_svm.fit(X_train, y_train)\n",
        "# Perform classification on test vectors X_test\n",
        "y_hat = best_svm.predict(X_test)\n",
        "# Accuracy classification score\n",
        "acc = accuracy_score(y_test, y_hat)\n",
        "print('The accuracy of SVM Classifier(Linear kernel) is ', acc)"
      ],
      "metadata": {
        "colab": {
          "base_uri": "https://localhost:8080/",
          "height": 336
        },
        "id": "GmIRAo171bxY",
        "outputId": "00124f9e-b85e-4b86-8895-6c7a0ae6f063"
      },
      "execution_count": 359,
      "outputs": [
        {
          "output_type": "stream",
          "name": "stdout",
          "text": [
            "The best C is  10\n"
          ]
        },
        {
          "output_type": "display_data",
          "data": {
            "image/png": "[encoded data removed]",
            "text/plain": [
              "<Figure size 432x288 with 1 Axes>"
            ]
          },
          "metadata": {
            "needs_background": "light"
          }
        },
        {
          "output_type": "stream",
          "name": "stdout",
          "text": [
            "The accuracy of SVM Classifier(Linear kernel) is  0.8888888888888888\n"
          ]
        }
      ]
    },
    {
      "cell_type": "markdown",
      "source": [
        "# **MLP Classifier**\n",
        "\n",
        "Multi-layer Perceptron classifier\n",
        "\n",
        "reference: https://scikit-learn.org/stable/modules/generated/sklearn.neural_network.MLPClassifier.html?highlight=mlpclassifier#sklearn.neural_network.MLPClassifier"
      ],
      "metadata": {
        "id": "QpryOtiJ789B"
      }
    },
    {
      "cell_type": "code",
      "source": [
        "# Initializ\n",
        "best_alpha = 0\n",
        "max = 0\n",
        "\n",
        "# Hyperparameters that will be evaluated\n",
        "alpha_sets = [0.01, 0.1, 1, 10, 100]\n",
        "validation_acc = []\n",
        "\n",
        "for i in alpha_sets:\n",
        "    mlp = MLPClassifier(alpha=i)\n",
        "    a = np.mean(cross_val_score(mlp, X_train, y_train, cv=10, scoring='accuracy'))\n",
        "    validation_acc.append(a) \n",
        "    # Find the best value of hyperparameter C\n",
        "    if a > max:\n",
        "        max = a\n",
        "        best_alpha = i\n",
        "print('The best alpha is ', best_alpha)\n",
        "\n",
        "# Show the plot\n",
        "plt.title('$log_{10}alpha$ vs Cross-validation accuracy')\n",
        "plt.xlabel('$log_{10}alpha$')\n",
        "plt.ylabel('Cross-validation accuracy')\n",
        "plt.xticks(np.log10(alpha_sets))\n",
        "plt.plot(np.log10(alpha_sets), validation_acc)\n",
        "plt.show()\n",
        "\n",
        "# SVM with best value of C\n",
        "best_mlp = MLPClassifier(alpha=best_alpha)\n",
        "# Fit the random classifier\n",
        "best_mlp.fit(X_train, y_train)\n",
        "# Perform classification on test vectors X_test\n",
        "y_hat = best_mlp.predict(X_test)\n",
        "# Accuracy classification score\n",
        "acc = accuracy_score(y_test, y_hat)\n",
        "print('The accuracy of MLP Classifie is ', acc)"
      ],
      "metadata": {
        "colab": {
          "base_uri": "https://localhost:8080/",
          "height": 336
        },
        "id": "4bLtuEBX6d2B",
        "outputId": "d664eb59-30ef-4490-f96d-572d5088bc6d"
      },
      "execution_count": 360,
      "outputs": [
        {
          "output_type": "stream",
          "name": "stdout",
          "text": [
            "The best alpha is  10\n"
          ]
        },
        {
          "output_type": "display_data",
          "data": {
            "image/png": "[encoded data removed]",
            "text/plain": [
              "<Figure size 432x288 with 1 Axes>"
            ]
          },
          "metadata": {
            "needs_background": "light"
          }
        },
        {
          "output_type": "stream",
          "name": "stdout",
          "text": [
            "The accuracy of MLP Classifie is  0.7777777777777778\n"
          ]
        }
      ]
    }
  ]
}